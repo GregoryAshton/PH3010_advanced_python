{
 "cells": [
  {
   "cell_type": "markdown",
   "id": "aefd0262",
   "metadata": {},
   "source": [
    "# Python Packaging\n",
    "\n",
    "\n",
    "<div class=\"alert alert-block alert-info\">\n",
    "<b>Note:</b> In this notebook, I use jupyter commands so that I can package the instructions as a notebook. But, you need to enter them into the terminal. Wherever there is a \"!\", this indicates that the rest of the line should be run in the terminal.  Wherever there is a `writefile` you should do this by using a text editor.\n",
    "    \n",
    "**All commands listed below should be run in this terminal: DO NOT SIMPLY RUN THE COMMANDS INSIDE THE NOTEBOOK**\n",
    "\n",
    "</div>\n",
    "\n",
    "So far, all our examples of python programs have been small \"snippets\" of code (something you could reasonably copy and paste to someone over a chat message). But, in most practical settings, software will contain several hundred lines at minimum, and we'll need a better way to share it with people. This is where **packaging** comes in. In this notebook, we cover the topic of packaging, distributing and testing a python package.\n"
   ]
  },
  {
   "cell_type": "markdown",
   "id": "2e09b003",
   "metadata": {},
   "source": [
    "## Distributing your program: scripts\n",
    "\n",
    "The simplest way to distribute your python program (beyond copy/pasting it!) is to use a script. That is you write a text file which contains the program. Users can then run it using any python interpreter (providing they have the correct dependencies). For example, here is a simple script to print out the date"
   ]
  },
  {
   "cell_type": "code",
   "execution_count": null,
   "id": "2e39b92e",
   "metadata": {},
   "outputs": [],
   "source": [
    "%%writefile script_to_print_the_date.py\n",
    "\n",
    "import time\n",
    "\n",
    "def print_the_time():\n",
    "    print(time.strftime('%Y-%m-%d', time.localtime()))\n",
    "    \n",
    "if __name__ == \"__main__\":\n",
    "    print_the_time()"
   ]
  },
  {
   "cell_type": "markdown",
   "id": "20ffd8b8",
   "metadata": {},
   "source": [
    "Okay, now we can run the program from the command line"
   ]
  },
  {
   "cell_type": "code",
   "execution_count": null,
   "id": "24b2d299",
   "metadata": {},
   "outputs": [],
   "source": [
    "! python script_to_print_the_date.py"
   ]
  },
  {
   "cell_type": "markdown",
   "id": "23eb1f7d",
   "metadata": {},
   "source": [
    "## Distributing your program: packages\n",
    "\n",
    "A script is great, you can email it to someone and they can run your code! But, what if you want to improve the program, or what if they want to import your `print_the_time()` function and use it as part of a larger program, or what if hundreds of people want your script? The answer to these questions is to make a `package`. \n",
    "\n",
    "We can build a package locally (i.e. on our local computer), but let's start with a template and review the basic features of a project. You can find a link here to a template that we will use:\n",
    "\n",
    "* https://github.com/GregoryAshton/template_project_PH3010_advanced_python\n",
    "\n",
    "<div class=\"alert alert-block alert-danger\">\n",
    "<b>Challenge 4.1:</b> Navigate to this page and read over the README to familiarise yourself with the layout. Not all of the elements will make sense yet, but you should know roughly where things are.\n",
    "</div>\n",
    "\n",
    "<div class=\"alert alert-block alert-danger\">\n",
    "<b>Challenge 4.2:</b> Click the green \"Use this template\" button to create a new project based on the template. Give your new project the name \"PH3010_AdvancedPython_<YOURNAME>\" where <YOURNAME> is your name.\n",
    "</div>\n",
    "\n",
    "<div class=\"alert alert-block alert-danger\">\n",
    "<b>Challenge 4.3:</b> Once your project has been created, clone it to your computer\n",
    "</div>"
   ]
  },
  {
   "cell_type": "markdown",
   "id": "e7bb7c4d",
   "metadata": {},
   "source": [
    "You should now have a local copy of the template in a directory `PH3010_AdvancedPython_<YOURNAME>`. Now we can start to learn about some of the parts of the package."
   ]
  },
  {
   "cell_type": "markdown",
   "id": "298d4ad5",
   "metadata": {},
   "source": [
    "### The program itself\n",
    "\n",
    "The program is contained in the directory `src/example_package`. The `src/` bit is a short hand for \"source\" while `example_package` is the name of the package (you will change this later on!). Inside of `example_package` there are three files:\n",
    "1. `__init__.py` This is an empty file. All it does is tell `python` that `example_package` is a module (i.e. that it can be imported). \n",
    "2. `example.py` This file contains the python module `example_package.example`. Open it up and take a look.. it is reasonably simple. Note that you can create another file `example_package/other_module.py` and then re-install the software and you will have a second module `example_package.other_module`.\n",
    "3. `command_line_interface.py` This file contains a program which exposes the functions in `example.py` so that a user can install them at the command line.\n",
    "\n",
    "Outside of `src/` there is then one very important file: `setup.cfg`. This file tells \"build tools\" how to install the package, who built the package, and other bits of useful information. \n",
    "\n",
    "<div class=\"alert alert-block alert-danger\">\n",
    "<b>Challenge 4.3:</b> Open setup.cfg and change the name of the author, email address, and replace the github links with your own URLs.\n",
    "</div>\n",
    "\n",
    "### Dependencies\n",
    "\n",
    "The dependencies/requirements of the program are written in the file `requirements.txt`. You can install these by running\n",
    "\n",
    "```console\n",
    "$ pip install -r requirements.txt\n",
    "```\n",
    "\n",
    "<div class=\"alert alert-block alert-danger\">\n",
    "<b>Challenge 4.4:</b> Install the dependencies\n",
    "</div>\n",
    "\n",
    "### Installing the program locally\n",
    "\n",
    "With a local copy of the software, you are now ready to install it! You may recall that in the past, you have installed packages by running\n",
    "```terminal\n",
    "$ pip install <PACKAGE>\n",
    "```\n",
    "where `<PACKAGE>` is the name of the package. For these installation, `pip` finds the package on the python package index [PyPI](https://pypi.org/) (or if you use `conda`, the equivalent). Our package is not yet on PyPI (but see below). Instead, we can build it locally. To do this, run\n",
    "```terminal\n",
    "$ pip install -e .\n",
    "```\n",
    "The `-e` flag tells `pip` to install it in `editable` mode, this means when you make changes to the package those will automatically update (except if you add files, then you need to re-run the command above). \n",
    "<div class=\"alert alert-block alert-danger\">\n",
    "<b>Challenge 4.5:</b> Install the package locally\n",
    "</div>\n",
    "\n",
    "### Test that it is installed\n",
    "\n",
    "You can test that you successfully installed the package by starting python,\n",
    "```\n",
    "$ python\n",
    ">>>\n",
    "```\n",
    "and then importing yoru package\n",
    "```python\n",
    ">>> from example_package.example import add_one\n",
    ">>> add_one(1)\n",
    "2\n",
    "```\n",
    "Here we see that we can use the function `add_one` from anywhere: we have installed our package! The `example_package` also installed a command-line tool called `add_one`. Check that that works as well:\n",
    "```console\n",
    "$ add_one 1\n",
    "1.0 add one is 2.0\n",
    "```\n",
    "\n",
    "<div class=\"alert alert-block alert-danger\">\n",
    "<b>Challenge 4.6:</b> Run the tests above\n",
    "</div>\n"
   ]
  },
  {
   "cell_type": "markdown",
   "id": "7319bf86",
   "metadata": {},
   "source": [
    "## Testing\n",
    "\n",
    "Now that we have our package installed, we may want to make some changes to it. (You should feel free to try adding new functions to `example_package/example.py` and see if you can import your new functions in a separate script). But, once we add those changes, how can we check we didn't break anything? This is the job of **regression testing**. Regression testing  is re-running functional and non-functional tests to ensure that previously developed and tested software still performs after a change. Our example package has a set of regression tests which can be found in `tests/test_example.py`. You can run these tests by running\n",
    "\n",
    "```console\n",
    "$ pytest . --cov\n",
    "```\n",
    "This will show how many tests it found, the status (\".\" means passed, \"E\" means error, and \"F\" means failed), and report the coverage indicating the fraction of the software that is covered.\n",
    "\n",
    "\n",
    "<div class=\"alert alert-block alert-danger\">\n",
    "<b>Challenge 4.7:</b> Run the tests as demonstrated above. Then, edit the test file to make the tests break and confirm it worked by rerunning the tests!\n",
    "</div>"
   ]
  },
  {
   "cell_type": "markdown",
   "id": "875b64c1",
   "metadata": {},
   "source": [
    "## Continuous Integration\n",
    "\n",
    "Having regressions tests is great - we can gain more confidence that our software will continue to work as we add new features. But, it is a pain to keep having to to run the tests yourself. This is where the tools of [continuous integration (CI)](https://www.atlassian.com/continuous-delivery/continuous-integration) come in handy. CI itself is a much larger framework which enables projects to test, package, and deploy software. Here, we will only use it to perform tests.\n",
    "\n",
    "In GitHub, the CI is referre to as \"Actions\". You can find the Actions for your project by clicking the Actions tab at the top of the page (for example, [here](https://github.com/GregoryAshton/template_project_PH3010_advanced_python/actions) are the actions for the original template repository. You'll find that the template already included an action which is defined in the file [python_test.yml](https://github.com/GregoryAshton/template_project_PH3010_advanced_python/blob/main/.github/workflows/python_test.yml). This action performs several checks, each one is in a `run` statement. Some of them you will recognise for example\n",
    "\n",
    "```yaml\n",
    "    - name: Run tests\n",
    "      run: |\n",
    "        pip install .\n",
    "        pytest . --cov\n",
    "```\n",
    "\n",
    "This is installing our example package and then running `pytest` exactly as we did above!\n",
    "\n",
    "Meanwhile,\n",
    "\n",
    "```yaml\n",
    "    - name: Test with codespell\n",
    "      run: |\n",
    "        codespell .\n",
    "```\n",
    "Checks the spelling throughout the project using a package called [codespell](https://github.com/codespell-project/codespell).\n",
    "\n",
    "This set of tests runs every time that changes are pushed to the GitHub repository. This means that the CI tests are run regularly and can be used to check Pull Requests etc before they are committed to the `main` branch.\n",
    "\n",
    "<div class=\"alert alert-block alert-danger\">\n",
    "<b>Challenge 4.8:</b> Read over the GitHub action python_test.yml. Try to make some minor changes to your repository (e.g. add a line to the README) and then push your changes up to the repository on GitHub - check that thet CI passes (gives a tick). If it fails (a red cross appears), then it has failed - click on the red cross to find out why and fix it!\n",
    "</div>"
   ]
  },
  {
   "cell_type": "markdown",
   "id": "1476508f",
   "metadata": {},
   "source": [
    "## GitHub Flow\n",
    "\n",
    "In Notebook 2, we explored the idea of [GitHub Flow](https://docs.github.com/en/get-started/quickstart/github-flow). Now we get to see it in practise. First working only with our own repository. \n",
    "\n",
    "<div class=\"alert alert-block alert-danger\">\n",
    "<b>Challenge 4.8:</b> Follow the advice on the GitHub flow page to make a change to your repository. You should edit the README to include a description of how to install the software. You will need to first create a branch, then make the changes, then add and commit the changes before finally pushing the branch to GitHub. Once the branch is on GitHub, create a Pull Request, review the pull request (add a comment), and check that the CI is passing. If you are happy, then merge the Pull Request into the main branch. Now head back to your local directory, checkout main and pull the changes.\n",
    "</div>"
   ]
  },
  {
   "cell_type": "markdown",
   "id": "3828d28f",
   "metadata": {},
   "source": [
    "## Deployment\n",
    "\n",
    "Now that we have a python package and we have tested it to make sure it works as intended. We may want to share it with the world! To do this, we can upload our package to PyPI. The python documentation for creating and distributing packages can be found [here](https://packaging.python.org/en/latest/tutorials/packaging-projects/) and is well written.\n",
    "\n",
    "<div class=\"alert alert-block alert-danger\">\n",
    "<b>Challenge 4.10:</b> Follow the documentation above to write a package and distribute it on https://test.pypi.org/. You will need to do this from the command line directly. You should sign up to test.pypi using your RHUL username (e.g. ABC123) so that your package can be found at https://test.pypi.org/project/example-package-ABC123\n",
    "</div>"
   ]
  },
  {
   "cell_type": "markdown",
   "id": "32a8a50b",
   "metadata": {},
   "source": [
    "## Documentation\n",
    "\n",
    "Python packages should, if they are written well, be easy to read. However, it can also be nice to generate documentation to help your users. For example, you will no doubt already have browsed documentation for [numpy](https://numpy.org/doc/stable/) at some point! \n",
    "\n",
    "Fortunately, the process of creating documentation has been simplified by documentation generators like [sphinx](https://www.sphinx-doc.org/en/master/). The template example has a folder `docs`. You can generate documentation by entering the folder and running\n",
    "\n",
    "```\n",
    "$ make html\n",
    "```\n",
    "\n",
    "Then, open the file `build/html/index.html` in a browser!\n",
    "\n",
    "<div class=\"alert alert-block alert-danger\">\n",
    "<b>Challenge 4.11:</b> Build the documentation for the template directory and check you can see the docstring for `add_one` in the API\n",
    "</div>"
   ]
  },
  {
   "cell_type": "markdown",
   "id": "1244d0f0",
   "metadata": {},
   "source": [
    "Building documentation is of course only half the battle. The next step is to host that documentation somewhere people can see it. This challenge has been solved by [readthedocs](https://docs.readthedocs.io/en/stable/tutorial/index.html) which will host your documentation, for free, provided it is open. "
   ]
  },
  {
   "cell_type": "markdown",
   "id": "7f75535c",
   "metadata": {},
   "source": [
    "## Software Development Best Practises"
   ]
  },
  {
   "cell_type": "markdown",
   "id": "d6d99e1b",
   "metadata": {},
   "source": [
    "In addition to the use of GitHub Flow for collaborative working, there are a number of standardized best practises you should follow when you write software. A comprehensive guide can be found [here](https://docs.python-guide.org/writing/style/), but we repeat a few of these ideas that we want you to keep in mind in the group project.\n",
    "\n",
    "Roughly speaking, these follow the principle that **your software will be read much more often than it is written**. To this end you should:\n",
    "\n",
    "1. **Be clear and consise**: avoid obfuscating a program to save a few lines. It is **hard to read**\n",
    "```python\n",
    "def make_complex(*args):\n",
    "    x, y = args\n",
    "    return dict(**locals())\n",
    "```\n",
    "but it is **easy to read**:\n",
    "```python\n",
    "def make_complex(x, y):\n",
    "    return {'x': x, 'y': y}\n",
    "```\n",
    "2. **One statement per line**: This code is messy and **hard to read**:\n",
    "```python\n",
    "print('one'); print('two')\n",
    "if x == 1: print('one')\n",
    "if <complex comparison> and <other complex comparison>:\n",
    "    # do something\n",
    "```\n",
    "Meanwhile, this is **easy to read**:\n",
    "```python\n",
    "print('one')\n",
    "print('two')\n",
    "if x == 1:\n",
    "    print('one')\n",
    "cond1 = <complex comparison>\n",
    "cond2 = <other complex comparison>\n",
    "if cond1 and cond2:\n",
    "    # do something\n",
    "```\n",
    "3. **Use a linter**. A linter is a tool to automatically check your code conforms to some standard tests. One is already included in the template package above called `flake8`. You may well see your code fail due to this, you should fix the errors.\n",
    "4. **[Dont Repeat Yourself](https://en.wikipedia.org/wiki/Don%27t_repeat_yourself)**. If you find yourself copy/pasting a snippet to do the same job twice, refactor your software so you can reuse the code. \n",
    "5. All functions and methods of classes should have a docstring. They should be named descriptively. Classes should use PascalCase (i.e. `MyNewClass`) while functions should use snake_case (i.e. `my_function`). Constants should be in all-caps snake case (`SOLAR_MASS=2e30`) while variables should be lower snake case (i.e. `my_variable=1`)\n",
    "6. Functions, classes, and modules should all contain a single logical idea. Break up monolithic objects into smaller more manageable pieces. As a rough rule of thumb, functions should only accept 2-3 positional arguments and 4-5 keyword arguments. Similarly with the `__init__` method of classes. And, a module should only be a few hundred lines long - any longer than this and you should refactor into several modules."
   ]
  }
 ],
 "metadata": {
  "kernelspec": {
   "display_name": "Python 3 (ipykernel)",
   "language": "python",
   "name": "python3"
  },
  "language_info": {
   "codemirror_mode": {
    "name": "ipython",
    "version": 3
   },
   "file_extension": ".py",
   "mimetype": "text/x-python",
   "name": "python",
   "nbconvert_exporter": "python",
   "pygments_lexer": "ipython3",
   "version": "3.9.7"
  }
 },
 "nbformat": 4,
 "nbformat_minor": 5
}
