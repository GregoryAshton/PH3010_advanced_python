{
 "cells": [
  {
   "cell_type": "markdown",
   "id": "85ab48e8",
   "metadata": {},
   "source": [
    "# Getting Started With Git"
   ]
  },
  {
   "cell_type": "markdown",
   "id": "881901c9",
   "metadata": {},
   "source": [
    "![xkcd](https://imgs.xkcd.com/comics/git.png)"
   ]
  },
  {
   "cell_type": "markdown",
   "id": "2650ce25",
   "metadata": {},
   "source": [
    "## What is git?\n",
    "\n",
    "As XKCD explains, it is software to track collaborative work projects. It is used by almost every open-source project to enable multiple distributed developers to write software together, but most companies also maintain internal (private) git repositories to track their products. Even if you are not working collaboratatively, there are a lot of advantages to using git!. \n",
    "\n",
    "There is a lot of interesting technical detail behind git, but here we will focus on its practical use for developing python projects. So, let's get started.\n",
    "\n",
    "## Running commands\n",
    "\n",
    "To complete this notebook, you need to open a terminal (if on a Windows machine, be sure to use the `Anaconda Powershell prompt`). As a reminder, you may wish to review the [guide to the command line](https://github.com/GregoryAshton/PH3010_advanced_python/blob/main/guides/using_the_command_line.md).\n",
    "\n",
    "<div class=\"alert alert-block alert-danger\">\n",
    "<b>Challenge 3.1:</b> Open a terminal\n",
    "</div>\n",
    "\n",
    "\n",
    "<div class=\"alert alert-block alert-info\">\n",
    "<b>Note:</b> In this notebook, I use jupyter commands so that I can package the instructions as a notebook. But, you need to enter them into the terminal. Wherever there is a \"!\", this indicates that the rest of the line should be run in the terminal.  Wherever there is a `writefile` you should do this by using a text editor.\n",
    "    \n",
    "**All commands listed below should be run in this terminal: DO NOT SIMPLY RUN THE COMMANDS INSIDE THE NOTEBOOK**\n",
    "\n",
    "</div>\n",
    "\n",
    "\n",
    "## Checking that you have git installed\n",
    "\n",
    "You can check that you have git installed and which version by running the following "
   ]
  },
  {
   "cell_type": "code",
   "execution_count": null,
   "id": "21d151b3",
   "metadata": {},
   "outputs": [],
   "source": [
    "! git --version"
   ]
  },
  {
   "cell_type": "markdown",
   "id": "13ff4e65",
   "metadata": {},
   "source": [
    "## A git-tracked directory\n",
    "\n",
    "Once you have `git` installed, you are ready to track files in a directory. Let's imagine we are starting from scratch on our new project, we first create a directory (folder) on our computer (note, I do this on `~/my_example_project` for demonstrating purposes, you will of course replace this with the directory you actually want to track!)."
   ]
  },
  {
   "cell_type": "code",
   "execution_count": null,
   "id": "a5020c59",
   "metadata": {},
   "outputs": [],
   "source": [
    "! rm ~/my_example_project -rf  # First remove the directory to start clean\n",
    "! mkdir ~/my_example_project"
   ]
  },
  {
   "cell_type": "markdown",
   "id": "d9b3ae3a",
   "metadata": {},
   "source": [
    "It may be useful to open the directory in a file explorer, on Windows you can do this by running\n",
    "```\n",
    "$ explore.exe .\n",
    "```\n",
    "or navigating to the directory from the file explorer."
   ]
  },
  {
   "cell_type": "markdown",
   "id": "38a489d8",
   "metadata": {},
   "source": [
    "Okay, now we add a file. It is usually a good idea to have a `README.md` file to tell people what the directory contains. Let's add one"
   ]
  },
  {
   "cell_type": "code",
   "execution_count": null,
   "id": "55b69fc9",
   "metadata": {},
   "outputs": [],
   "source": [
    "%%writefile ~/my_example_project/README.md\n",
    "# My example project\n",
    "\n",
    "Here is my project description"
   ]
  },
  {
   "cell_type": "markdown",
   "id": "cc4a4ec6",
   "metadata": {},
   "source": [
    "<div class=\"alert alert-block alert-info\">\n",
    "<b>Note:</b> Here I am using the jupyter cell magic `writefile`. To replicate this step, you will need to edit the file directly. For Windows, open notepad or notepadd++ write the contents of the file and the click \"save as\" navigating to the directory `my_example_project`.\n",
    "</div>\n"
   ]
  },
  {
   "cell_type": "markdown",
   "id": "e32b172b",
   "metadata": {},
   "source": [
    "Okay, now let's go to the directory and check our `README.md` is there."
   ]
  },
  {
   "cell_type": "code",
   "execution_count": null,
   "id": "0839cec8",
   "metadata": {},
   "outputs": [],
   "source": [
    "%cd ~/my_example_project/\n",
    "! ls"
   ]
  },
  {
   "cell_type": "markdown",
   "id": "71e15f6b",
   "metadata": {},
   "source": [
    "At this point, we will start using `git`. Our first step is to initialise the directory."
   ]
  },
  {
   "cell_type": "code",
   "execution_count": null,
   "id": "468f8b97",
   "metadata": {},
   "outputs": [],
   "source": [
    "! git init\n",
    "! git checkout -b main"
   ]
  },
  {
   "cell_type": "markdown",
   "id": "17f666dc",
   "metadata": {},
   "source": [
    "Okay, then next we **add** the `README.md` file "
   ]
  },
  {
   "cell_type": "code",
   "execution_count": null,
   "id": "c905179b",
   "metadata": {},
   "outputs": [],
   "source": [
    "! git add README.md"
   ]
  },
  {
   "cell_type": "markdown",
   "id": "0e4764a2",
   "metadata": {},
   "source": [
    "We can check that it is there"
   ]
  },
  {
   "cell_type": "code",
   "execution_count": null,
   "id": "27ac5b07",
   "metadata": {},
   "outputs": [],
   "source": [
    "! git status"
   ]
  },
  {
   "cell_type": "markdown",
   "id": "9bf14e98",
   "metadata": {},
   "source": [
    "The output here says that there is one new file `README.md` \"to be committed\". Let's commit the file and add a message."
   ]
  },
  {
   "cell_type": "code",
   "execution_count": null,
   "id": "afc01a47",
   "metadata": {},
   "outputs": [],
   "source": [
    "! git commit -m \"Adds initial version of the README\""
   ]
  },
  {
   "cell_type": "markdown",
   "id": "7241e58e",
   "metadata": {},
   "source": [
    "There are two stages to creating a `git` commit. First we **add** files, then we **commit** them. You may ask, \"what is the difference?\". The key is that our example above was rather simple. In practice, you may want to add multiple files at once, or even add changes to only part of a file. Everything done during the `add` command can easily be undone (look at the output of `git status` to see how). But, once you have added all the files that you like (this is sometimes referred to as *staging*), you **commit**. The commit is where the magic of `git` happens: in short the changes to the files are recorded along with the message explaining the changes.\n",
    "\n",
    "Okay, to fill out our example, let's change the `README.md` file to add a better description of the project (here we overwrite the file, but you could of course just edit it directly):"
   ]
  },
  {
   "cell_type": "code",
   "execution_count": null,
   "id": "f5897b79",
   "metadata": {},
   "outputs": [],
   "source": [
    "%%writefile ~/my_example_project/README.md\n",
    "# My example project\n",
    "\n",
    "This is an example project for people learning about git"
   ]
  },
  {
   "cell_type": "markdown",
   "id": "21b71ebc",
   "metadata": {},
   "source": [
    "(Reminder: you will need to edit the file using a text editor). Now, we can check the `git status` again"
   ]
  },
  {
   "cell_type": "code",
   "execution_count": null,
   "id": "78741ff9",
   "metadata": {},
   "outputs": [],
   "source": [
    "! git status"
   ]
  },
  {
   "cell_type": "markdown",
   "id": "ca95be39",
   "metadata": {},
   "source": [
    "Now we see that file has been modified. We can check how it has been modified by using `git diff`"
   ]
  },
  {
   "cell_type": "code",
   "execution_count": null,
   "id": "84e93e5b",
   "metadata": {},
   "outputs": [],
   "source": [
    "! git diff README.md"
   ]
  },
  {
   "cell_type": "markdown",
   "id": "8cd9d85b",
   "metadata": {},
   "source": [
    "And then we can add the file and commit the changes"
   ]
  },
  {
   "cell_type": "code",
   "execution_count": null,
   "id": "7d2552ef",
   "metadata": {},
   "outputs": [],
   "source": [
    "! git add README.md\n",
    "! git commit -m \"Updating the description in the README\""
   ]
  },
  {
   "cell_type": "markdown",
   "id": "bae676a5",
   "metadata": {},
   "source": [
    "Why is this so useful? \n",
    "\n",
    "* First, I can easily track when something changes, why it changed, and who changed it. This is enabled by the `log`. \n",
    "* Second, it enables collaborative work. You and I can both commit changes to the same piece of code simultaneously and then we can **merge** those changes together (if there are conflicts, a decision will be needed to handle them, but let's worry about that later). \n",
    "* Finally, it breaks our work into well defined chunks. You should think of each commit as adding, removing, or changing **one** logical piece of the data. The commit message should explain this. Avoid large commits which change multiple files at once: if you can't explain the commit in a single short sentence, then you are going too much.\n",
    "\n",
    "<div class=\"alert alert-block alert-danger\">\n",
    "<b>Challenge 3.2:</b> On your computer, create a directory, initialise git, add some files, and commit those files. Check that this works as you expected by looking at git status at each step.\n",
    "</div>\n",
    "\n",
    "Okay, let's now look at each of these ideas individually."
   ]
  },
  {
   "cell_type": "markdown",
   "id": "4f0eb390",
   "metadata": {},
   "source": [
    "### Tracking changes in a git repository\n",
    "\n",
    "If we want to see a history of the changes, we can look at the `log`"
   ]
  },
  {
   "cell_type": "code",
   "execution_count": null,
   "id": "a8c37daf",
   "metadata": {},
   "outputs": [],
   "source": [
    "! git log"
   ]
  },
  {
   "cell_type": "markdown",
   "id": "44455d00",
   "metadata": {},
   "source": [
    "We can also look at the changes in each commit by pasting part of the commit hash (this is the long string of letters and number printed in the log), for example:"
   ]
  },
  {
   "cell_type": "code",
   "execution_count": null,
   "id": "973ed99c",
   "metadata": {},
   "outputs": [],
   "source": [
    "! git show b794bb09de8b5fffa6b599938a2c051c66226ac5"
   ]
  },
  {
   "cell_type": "markdown",
   "id": "8294d238",
   "metadata": {},
   "source": [
    "<div class=\"alert alert-block alert-info\">\n",
    "<b>Note:</b> The hash in your directory will be different! You need to look at the contents of `git log` and copy and paste the hash. \n",
    "</div>\n",
    "    \n",
    "You don't have to use the full hash here. So long as it is unique, just taking the first few letters also works."
   ]
  },
  {
   "cell_type": "code",
   "execution_count": null,
   "id": "d5231087",
   "metadata": {},
   "outputs": [],
   "source": [
    "! git show b794bb09"
   ]
  },
  {
   "cell_type": "markdown",
   "id": "dac8fc93",
   "metadata": {},
   "source": [
    "### Git branching\n",
    "\n",
    "git enables multiple versions of the same software using the idea of branches. Usually we have one main branch, often called either the `master` or `main` branch (the later is preferred nowadays for obvious reasons, but `git` still defaults to calling it `master` as in our example above so we immediately created `main` instead). Then, when we want to make changes, we create a branch, make the changes there, then `merge` them back into the main branch, here is a visualisation of that process graphically from a nice [tutorial](https://www.atlassian.com/git/tutorials/using-branches#:~:text=The%20git%20branch%20command%20lets,checkout%20and%20git%20merge%20commands.)\n",
    "\n",
    "<img src=\"https://wac-cdn.atlassian.com/dam/jcr:a905ddfd-973a-452a-a4ae-f1dd65430027/01%20Git%20branch.svg?cdnVersion=365\" alt=\"branches\" width=\"600\"/>\n",
    "\n",
    "Let's see an example of how to create a branch, make a change, and then merge it back in using our project example above"
   ]
  },
  {
   "cell_type": "code",
   "execution_count": null,
   "id": "ce98df5a",
   "metadata": {},
   "outputs": [],
   "source": [
    "%cd ~/my_example_project/\n",
    "! git checkout -b adding-a-licence-to-my-project"
   ]
  },
  {
   "cell_type": "code",
   "execution_count": null,
   "id": "e70392b3",
   "metadata": {},
   "outputs": [],
   "source": [
    "%%writefile LICENSE.md\n",
    "\n",
    "MIT License\n",
    "\n",
    "Copyright (c) [year] [fullname]\n",
    "\n",
    "Permission is hereby granted, free of charge, to any person obtaining a copy\n",
    "of this software and associated documentation files (the \"Software\"), to deal\n",
    "in the Software without restriction, including without limitation the rights\n",
    "to use, copy, modify, merge, publish, distribute, sublicense, and/or sell\n",
    "copies of the Software, and to permit persons to whom the Software is\n",
    "furnished to do so, subject to the following conditions:\n",
    "\n",
    "The above copyright notice and this permission notice shall be included in all\n",
    "copies or substantial portions of the Software.\n",
    "\n",
    "THE SOFTWARE IS PROVIDED \"AS IS\", WITHOUT WARRANTY OF ANY KIND, EXPRESS OR\n",
    "IMPLIED, INCLUDING BUT NOT LIMITED TO THE WARRANTIES OF MERCHANTABILITY,\n",
    "FITNESS FOR A PARTICULAR PURPOSE AND NONINFRINGEMENT. IN NO EVENT SHALL THE\n",
    "AUTHORS OR COPYRIGHT HOLDERS BE LIABLE FOR ANY CLAIM, DAMAGES OR OTHER\n",
    "LIABILITY, WHETHER IN AN ACTION OF CONTRACT, TORT OR OTHERWISE, ARISING FROM,\n",
    "OUT OF OR IN CONNECTION WITH THE SOFTWARE OR THE USE OR OTHER DEALINGS IN THE\n",
    "SOFTWARE."
   ]
  },
  {
   "cell_type": "code",
   "execution_count": null,
   "id": "886e3311",
   "metadata": {},
   "outputs": [],
   "source": [
    "! git add LICENSE.md\n",
    "! git commit -m \"Adding the MIT license to the project\""
   ]
  },
  {
   "cell_type": "code",
   "execution_count": null,
   "id": "50b5b3eb",
   "metadata": {},
   "outputs": [],
   "source": [
    "! git status"
   ]
  },
  {
   "cell_type": "markdown",
   "id": "138b1a08",
   "metadata": {},
   "source": [
    "At this point, we are on the `adding-a-licence-to-my-project` branch and have two files in to directory:"
   ]
  },
  {
   "cell_type": "code",
   "execution_count": null,
   "id": "0e782432",
   "metadata": {},
   "outputs": [],
   "source": [
    "! ls"
   ]
  },
  {
   "cell_type": "markdown",
   "id": "2df26f6c",
   "metadata": {},
   "source": [
    "We can now switch back to the `main` branch where `LICENSE.md` does not exist"
   ]
  },
  {
   "cell_type": "code",
   "execution_count": null,
   "id": "a5334c17",
   "metadata": {},
   "outputs": [],
   "source": [
    "! git checkout main\n",
    "! ls"
   ]
  },
  {
   "cell_type": "markdown",
   "id": "580bae7d",
   "metadata": {},
   "source": [
    "To **merge** the changes back in, we run"
   ]
  },
  {
   "cell_type": "code",
   "execution_count": null,
   "id": "f45707c6",
   "metadata": {},
   "outputs": [],
   "source": [
    "! git merge adding-a-licence-to-my-project"
   ]
  },
  {
   "cell_type": "code",
   "execution_count": null,
   "id": "ba5efce7",
   "metadata": {},
   "outputs": [],
   "source": [
    "! ls"
   ]
  },
  {
   "cell_type": "code",
   "execution_count": null,
   "id": "f3a0c9b5",
   "metadata": {},
   "outputs": [],
   "source": [
    "! git log"
   ]
  },
  {
   "cell_type": "markdown",
   "id": "517a02c9",
   "metadata": {},
   "source": [
    "<div class=\"alert alert-block alert-danger\">\n",
    "<b>Challenge 3.3:</b> Follow the steps above to check you understand how to create a branch, add files, and then merge them back into main/master.\n",
    "</div>"
   ]
  },
  {
   "cell_type": "markdown",
   "id": "05700b87",
   "metadata": {},
   "source": [
    "### Good git commits\n",
    "\n",
    "`git` can be used in many ways. But, there are some principles which you should try to abide by as they will help you, especially when you work with others. Perhaps the most important is to **ensure that each commit performs one logical change**. Avoid making lots and lots of changes, then committing them all together. This might seem natural. For example, you may previously have dumped all your code into Dropbox at the end of each day. But, it renders the `git log` useless and makes merging your code really hard! \n",
    "\n",
    "In short, we can appeal to [XKCD](https://xkcd.com/1296/) again for what **not** to do:\n",
    "\n",
    "![xkcd](https://imgs.xkcd.com/comics/git_commit.png)\n",
    "\n",
    "Instead you should\n",
    "\n",
    "1. Sit down and decide what singular logical change you plan to make to the software\n",
    "2. Create a branch to track the changes\n",
    "3. Edit the software to make the change\n",
    "4. Add all files required (`git add`)\n",
    "5. Review the changes (using `git status`)\n",
    "6. Commit the changes with a *good* git commit message\n",
    "7. Repeat steps 3-6 until you have all the commits you need\n",
    "8. Either merge the changes into `main` or creating a Pull Request (see below)\n",
    "\n",
    "Note that in step 7, we realise that sometimes we need multiple commits."
   ]
  },
  {
   "cell_type": "markdown",
   "id": "36dbcb75",
   "metadata": {},
   "source": [
    "## Git repositories\n",
    "\n",
    "Our git directory we created above has got us started, but now we want to share our project with the world! How can we go about distributing our software? This can be done using a `repository` (or `repo` for short). This is an online copy of the software where we can **push** our changes (i.e. all our git commits) and **pull** changes from other people. There are several websites which provide access to repositories for free. Here we will use `github`. "
   ]
  },
  {
   "cell_type": "markdown",
   "id": "40a62180",
   "metadata": {},
   "source": [
    "### Working with existing repositories\n",
    "\n",
    "If you want to work with an existing repository, you can download the source code directly. For example, `numpy` is openly developed on github [here](https://github.com/numpy/numpy). We can `clone` the directory by hitting the big green **clone** button and copying the `HTTPS` URL: https://github.com/numpy/numpy.git. With that in hand, we can clone as follows:"
   ]
  },
  {
   "cell_type": "code",
   "execution_count": null,
   "id": "6107b62f",
   "metadata": {},
   "outputs": [],
   "source": [
    "%cd ~\n",
    "! rm numpy -rf  # Remove the directory to start clean\n",
    "! git clone https://github.com/numpy/numpy"
   ]
  },
  {
   "cell_type": "markdown",
   "id": "1e743197",
   "metadata": {},
   "source": [
    "We can now take a look at the directory"
   ]
  },
  {
   "cell_type": "code",
   "execution_count": null,
   "id": "3f322392",
   "metadata": {},
   "outputs": [],
   "source": [
    "! ls numpy"
   ]
  },
  {
   "cell_type": "markdown",
   "id": "21d39a2e",
   "metadata": {},
   "source": [
    "If you ever want to know how `numpy` works, you can take a look in this directory and find the function that you need. For example, if you wanted to know how the `numpy` function `savetxt` was implement we could use `grep` (a UNIX command to find things):"
   ]
  },
  {
   "cell_type": "code",
   "execution_count": null,
   "id": "95b9e05b",
   "metadata": {},
   "outputs": [],
   "source": [
    "! grep 'def savetxt' ~/numpy/numpy/ -r"
   ]
  },
  {
   "cell_type": "markdown",
   "id": "f8818c8d",
   "metadata": {},
   "source": [
    "We get two matches, the actual definition is in the first file. We can view it [here](https://github.com/numpy/numpy/blob/main/numpy/lib/npyio.py#L1321) (you could open the file locally, here I have linked to the online version)."
   ]
  },
  {
   "cell_type": "markdown",
   "id": "a4fb265b",
   "metadata": {},
   "source": [
    "<div class=\"alert alert-block alert-info\">\n",
    "<b>Note:</b> This command will not work on windows, but you can still use the file explorer to navigate into the `numpy` directory and find the files!\n",
    "</div>"
   ]
  },
  {
   "cell_type": "markdown",
   "id": "e60bc0fb",
   "metadata": {},
   "source": [
    "<div class=\"alert alert-block alert-danger\">\n",
    "<b>Challenge 3.4:</b> Follow the steps above to check you can clone a copy of an existing repository locally and open the file numpy/lib/npyio.py to see how `savetxt` is defined. "
   ]
  },
  {
   "cell_type": "markdown",
   "id": "71741a33",
   "metadata": {},
   "source": [
    "### Creating your own repository\n",
    "You can sign up for a github student developer pack [here](https://education.github.com/pack) using your university email address. This will give you free access to lots of premium features. Once you have an account, you can play around creating a new repo here: https://github.com/new.\n",
    "\n",
    "<div class=\"alert alert-block alert-danger\">\n",
    "<b>Challenge 3.5:</b> Create a new repository on GitHub under your namespace. Clone a local copy of the repository to your local computer. Make some changes to the repository, then push the changes back up to GitHub and verify that they exist there."
   ]
  },
  {
   "cell_type": "markdown",
   "id": "b851e14b",
   "metadata": {},
   "source": [
    "## Git Flow"
   ]
  },
  {
   "cell_type": "markdown",
   "id": "f47f7872",
   "metadata": {},
   "source": [
    "`git` itself is software to track changes to a set of files (i.e our software). However, as we have seen above, lots of packages are developed openly on platforms like GitHub. At it's core, GitHub provides a place to share your git repository with others (and find and clone their repositories). But, beyond this GitHub and similar platforms have developed a way of working with git repositories which is often referred to as **GitHub Flow**. In short, this describes the *flow* of software development from an idea to part of the published package. You can read about [github flow here](https://docs.github.com/en/get-started/quickstart/github-flow). (Note that other platforms have names like GitLab flow and some of the concepts are renames, e.g. Pull Request == Merge Request. Here we will use the GitHub terminology)."
   ]
  },
  {
   "cell_type": "markdown",
   "id": "4118bffc",
   "metadata": {},
   "source": [
    "<div class=\"alert alert-block alert-danger\">\n",
    "<b>Challenge 3.6:</b> Skim over the github flow documentation to get an understanding of the idea. We will use this in our group project work so it is important you have this reference on hand."
   ]
  },
  {
   "cell_type": "markdown",
   "id": "2e95eb4b",
   "metadata": {},
   "source": [
    "## Glossary\n",
    "People are often confused by various definitions at this point, so here is a glossary to help\n",
    "\n",
    "* **git**: a free and open source distributed version control system (i.e. software) designed to handle everything from small to very large projects with speed and efficiency.\n",
    "* **directory**: (also known as a folder) a structure in the file system to contain multiple files\n",
    "* **git repository**: (often shortened to repo) a directory which is tracked by `git`\n",
    "* **GitHub**: A website for sharing git repositories (see also gitlab, bitbucket, etc)\n",
    "* **GitHub Flow** (also known as Git Flow) a method of working with git repositories on GitHub to enamle multi-user development."
   ]
  }
 ],
 "metadata": {
  "kernelspec": {
   "display_name": "Python 3 (ipykernel)",
   "language": "python",
   "name": "python3"
  },
  "language_info": {
   "codemirror_mode": {
    "name": "ipython",
    "version": 3
   },
   "file_extension": ".py",
   "mimetype": "text/x-python",
   "name": "python",
   "nbconvert_exporter": "python",
   "pygments_lexer": "ipython3",
   "version": "3.9.7"
  }
 },
 "nbformat": 4,
 "nbformat_minor": 5
}
