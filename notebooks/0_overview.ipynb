{
 "cells": [
  {
   "cell_type": "markdown",
   "id": "17b64465",
   "metadata": {},
   "source": [
    "# PH3010: Advanced methods in Python and software development\n",
    "\n",
    "In this module, you will learn advanced methods in python and software development. We will build on the ideas you learned in PH2150. The ultimate goal will be to write a software package which enables users to solve the Time-Dependent Schrödinger Equation for an arbitrary potential. You will do this in a team, using open-source collaboration tools on `GitHub`, and packaging your software so that others can use it. While the content of this module is inextricably physics, you will be assesed on:\n",
    "\n",
    "1. The quality of the software you deliver\n",
    "2. The use of collaborative working tools\n",
    "3. The application of standardized software development practises\n",
    "4. The development of integrated testing and documentation into your software\n",
    "5. The extension of the basic module\n",
    "\n",
    "You may ask, why are these important?\n",
    "\n",
    "The days of the lone-programmer silently tapping away in her basement to develop software are gone. Nowadays, across all areas of Physics, data science, education, finance, etc, software is developed by teams of people. It is likely that in your future career you may be such a person. The software you write might be finding new particles at the LHC, measuring the impact of climate change on our World, helping customers to purchase a better car, or pricing options for a bank. But whatever it does, you will no doubt want it to do the job well! However, working in a large team is difficult. Your colleagues may be distributed across the globe, in many timezones, and all working on the same piece of software. \n",
    "\n",
    "In such an environment, you can't just email your \"software\" to your colleague and then wait for them to add their bits before running it. We need to be able to develop code together in a distributed fashion. We also want that code to meet certain quality requirements. And, when someone changes the code, it shouldn't break everything! The means to meet these requirements have largely been solved by the open-source community. Millions of people worldwide write code together collaboratively. Often, they have never met and might not even speak the same language. In this module, you will get a taster for how this is done in practice. "
   ]
  },
  {
   "cell_type": "markdown",
   "id": "2446b970",
   "metadata": {},
   "source": [
    "## About these notes\n",
    "\n",
    "These notes are built using a [jupyter](https://jupyter.org/) notebook. There are several bits of syntax you need to know.\n",
    "\n",
    "### 1. Python cells\n",
    "\n",
    "Cells which contain python look like this:"
   ]
  },
  {
   "cell_type": "code",
   "execution_count": null,
   "id": "5cebf4bf",
   "metadata": {},
   "outputs": [],
   "source": [
    "print(\"Hello world\")"
   ]
  },
  {
   "cell_type": "markdown",
   "id": "1b1d417f",
   "metadata": {},
   "source": [
    "You can run these by hitting \"Shift + Enter\" or clicking the \"Run\" button."
   ]
  },
  {
   "cell_type": "markdown",
   "id": "a1f41541",
   "metadata": {},
   "source": [
    "### 2. Jupyter cell magic\n",
    "In some places we will use [jupyter magic](https://ipython.readthedocs.io/en/stable/interactive/magics.html) commands. These allow us to interact with local files from the notebooks. Here are the commands that we will use:\n",
    "\n",
    "* `%%pwd`: path to working directory. This will tell you where the notebook is running, you can then use any file explore to navigate to this path if needed. For example:"
   ]
  },
  {
   "cell_type": "code",
   "execution_count": null,
   "id": "0a7bb5be",
   "metadata": {},
   "outputs": [],
   "source": [
    "%pwd"
   ]
  },
  {
   "cell_type": "markdown",
   "id": "a4b2569f",
   "metadata": {},
   "source": [
    "* `%%writefile`: this will write the contents of the cell to a file, for example to write a very simple program to `test.py`, we run"
   ]
  },
  {
   "cell_type": "code",
   "execution_count": null,
   "id": "048f66ab",
   "metadata": {},
   "outputs": [],
   "source": [
    "%%writefile test.py\n",
    "\n",
    "print(\"This is a test\")"
   ]
  },
  {
   "cell_type": "markdown",
   "id": "be5e6ccb",
   "metadata": {},
   "source": [
    "### 3. Viewing/editing local files\n",
    "\n",
    "You can then view/edit the contents of `test.py` by either:\n",
    "1. Navigating to this directory using the file explorer on your computer (recall that `pwd` above gave you the path). You can then right click and hit \"Open with\". On the lab computers, you should have \"Notepad++\" available.\n",
    "2. Using the Jupyter file explorer: head back to the \"Home Page\" tab from where you opened this notebook, and you should see the file there and be able to open and edit it.\n",
    "3. **If you are using a linux OS (either WSL, Mac, or Linux directly)** you can use the `cat` program like this to view the contents of the files directly from the notebook."
   ]
  },
  {
   "cell_type": "code",
   "execution_count": null,
   "id": "606dca1e",
   "metadata": {},
   "outputs": [],
   "source": [
    "! cat test.py"
   ]
  },
  {
   "cell_type": "markdown",
   "id": "57b34f56",
   "metadata": {},
   "source": [
    "<div class=\"alert alert-block alert-danger\">\n",
    "<b>Note:</b> The exclamation mark here tells jupyter to run the command from the command line. If you are on linux, you can run `cat` directly from the command line.\n",
    "</div>"
   ]
  },
  {
   "cell_type": "markdown",
   "id": "7437d010",
   "metadata": {},
   "source": [
    "4. **If you are using a linux OS (either WSL, Mac, or Linux directly)** you can navigate to the files via the command line and then opening the file using a text editor, for example on linux you would run\n",
    "```\n",
    "$ gedit test.py\n",
    "```\n",
    "or on mac\n",
    "```\n",
    "$ open -e test.py\n",
    "```\n",
    "\n",
    "<div class=\"alert alert-block alert-danger\">\n",
    "<b>Note:</b> you don't type the `$` sign, that is to show that you run this in the terminal\n",
    "</div>"
   ]
  },
  {
   "cell_type": "markdown",
   "id": "cdba6a1a",
   "metadata": {},
   "source": [
    "### 4. Running programs\n",
    "\n",
    "In these notes, we will demonstrate how to run simple python scripts. This can be done like this:"
   ]
  },
  {
   "cell_type": "code",
   "execution_count": null,
   "id": "47c358ed",
   "metadata": {},
   "outputs": [],
   "source": [
    "! python test.py"
   ]
  },
  {
   "cell_type": "markdown",
   "id": "257dbf45",
   "metadata": {},
   "source": [
    "As with `cat` above, the exclamation mark tells `jupyter` to run the command in the terminal. In this case, it then runs the command\n",
    "```\n",
    "$ python test.py\n",
    "```\n",
    "in the terminal. \n",
    "\n",
    "<div class=\"alert alert-block alert-danger\">\n",
    "<b>Note:</b> This example shows how to run your python programs from the command line. This will work on any OS provided python is installed.\n",
    "</div>"
   ]
  },
  {
   "cell_type": "markdown",
   "id": "bdb92bf6",
   "metadata": {},
   "source": [
    "### 4. Software \n",
    "Finally, these notes where built using:"
   ]
  },
  {
   "cell_type": "code",
   "execution_count": null,
   "id": "c50f19f5",
   "metadata": {},
   "outputs": [],
   "source": [
    "import sys, numpy, matplotlib, scipy\n",
    "print(f\"We are using python version {sys.version}\")\n",
    "\n",
    "for module in numpy, matplotlib, scipy:\n",
    "    print(f\"We are using {module.__name__} version {module.__version__}\")"
   ]
  },
  {
   "cell_type": "markdown",
   "id": "dfbc816b",
   "metadata": {},
   "source": [
    "## Getting started"
   ]
  },
  {
   "cell_type": "markdown",
   "id": "b725b682",
   "metadata": {},
   "source": [
    "To successfully complete this project, you will need access to `python` and `git`. If you do not have access to these, please follow one of [the guides to getting set up](https://github.com/GregoryAshton/PH3010_advanced_python/). Assuming you have both of these installed and access to a terminal, once you have follows [this guide](https://github.com/GregoryAshton/PH3010_advanced_python/blob/main/guides/PH3010_getting_started.md) you should be able to open the notebooks for this course:\n",
    "\n",
    "```terminal\n",
    "$ cd PH3010_advanced_python/\n",
    "$ jupyter notebook\n",
    "```\n",
    "\n",
    "This will launch the jupyter notebook in your browser (or print a message on how to access it). From there you can directly open these files starting with \"Advanced Python\""
   ]
  }
 ],
 "metadata": {
  "kernelspec": {
   "display_name": "Python 3 (ipykernel)",
   "language": "python",
   "name": "python3"
  },
  "language_info": {
   "codemirror_mode": {
    "name": "ipython",
    "version": 3
   },
   "file_extension": ".py",
   "mimetype": "text/x-python",
   "name": "python",
   "nbconvert_exporter": "python",
   "pygments_lexer": "ipython3",
   "version": "3.9.7"
  }
 },
 "nbformat": 4,
 "nbformat_minor": 5
}
